{
  "nbformat": 4,
  "nbformat_minor": 0,
  "metadata": {
    "colab": {
      "provenance": [],
      "authorship_tag": "ABX9TyOhfADyVBTlMvFudyGW78rM",
      "include_colab_link": true
    },
    "kernelspec": {
      "name": "python3",
      "display_name": "Python 3"
    },
    "language_info": {
      "name": "python"
    }
  },
  "cells": [
    {
      "cell_type": "markdown",
      "metadata": {
        "id": "view-in-github",
        "colab_type": "text"
      },
      "source": [
        "<a href=\"https://colab.research.google.com/github/Baghe92/Baghera1/blob/main/Esempio_immagini.ipynb\" target=\"_parent\"><img src=\"https://colab.research.google.com/assets/colab-badge.svg\" alt=\"Open In Colab\"/></a>"
      ]
    },
    {
      "cell_type": "code",
      "source": [
        "!pip install opencv-python\n",
        "!pip install numpy"
      ],
      "metadata": {
        "colab": {
          "base_uri": "https://localhost:8080/"
        },
        "id": "wkgWAZ2jxwui",
        "outputId": "b872d179-c823-44ea-fbfc-345156f167b9"
      },
      "execution_count": 2,
      "outputs": [
        {
          "output_type": "stream",
          "name": "stdout",
          "text": [
            "Requirement already satisfied: opencv-python in /usr/local/lib/python3.11/dist-packages (4.10.0.84)\n",
            "Requirement already satisfied: numpy>=1.21.2 in /usr/local/lib/python3.11/dist-packages (from opencv-python) (1.26.4)\n",
            "Requirement already satisfied: numpy in /usr/local/lib/python3.11/dist-packages (1.26.4)\n"
          ]
        }
      ]
    },
    {
      "cell_type": "code",
      "execution_count": 5,
      "metadata": {
        "colab": {
          "base_uri": "https://localhost:8080/"
        },
        "id": "JKHoMr9zxHqO",
        "outputId": "3e49d011-34b1-4153-960c-d3846836a317"
      },
      "outputs": [
        {
          "output_type": "stream",
          "name": "stdout",
          "text": [
            "Error: Could not read frame from webcam.\n"
          ]
        }
      ],
      "source": [
        "import cv2\n",
        "\n",
        "# Carica il modello pre-addestrato per il riconoscimento facciale\n",
        "face_cascade = cv2.CascadeClassifier(cv2.data.haarcascades + 'haarcascade_frontalface_default.xml')\n",
        "\n",
        "# Inizia la cattura video dalla webcam\n",
        "cap = cv2.VideoCapture(0)\n",
        "\n",
        "import cv2\n",
        "\n",
        "# Carica il modello pre-addestrato per il riconoscimento facciale\n",
        "face_cascade = cv2.CascadeClassifier(cv2.data.haarcascades + 'haarcascade_frontalface_default.xml')\n",
        "\n",
        "# Inizia la cattura video dalla webcam\n",
        "cap = cv2.VideoCapture(0)\n",
        "\n",
        "while True:\n",
        "    # Leggi un frame dalla webcam\n",
        "    ret, frame = cap.read()\n",
        "\n",
        "    # Check if the frame was read successfully\n",
        "    if not ret:\n",
        "        print(\"Error: Could not read frame from webcam.\")\n",
        "        break  # Exit the loop if frame reading fails\n",
        "\n",
        "    # Converti l'immagine in scala di grigi\n",
        "    gray = cv2.cvtColor(frame, cv2.COLOR_BGR2GRAY)\n",
        "\n",
        "    # Rileva i volti nell'immagine\n",
        "    faces = face_cascade.detectMultiScale(gray, scaleFactor=1.1, minNeighbors=5, minSize=(30, 30))\n",
        "\n",
        "    # Disegna un rettangolo intorno ai volti rilevati\n",
        "    for (x, y, w, h) in faces:\n",
        "        cv2.rectangle(frame, (x, y), (x+w, y+h), (255, 0, 0), 2)\n",
        "\n",
        "    # Mostra il frame con i volti rilevati\n",
        "    cv2.imshow('Riconoscimento facciale', frame)\n",
        "\n",
        "    # Interrompi il loop se viene premuto il tasto 'q'\n",
        "    if cv2.waitKey(1) & 0xFF == ord('q'):\n",
        "        break\n",
        "\n",
        "# Rilascia la webcam e chiudi le finestre\n",
        "cap.release()\n",
        "cv2.destroyAllWindows()"
      ]
    }
  ]
}